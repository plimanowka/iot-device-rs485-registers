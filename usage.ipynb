{
 "cells": [
  {
   "cell_type": "markdown",
   "metadata": {},
   "source": [
    "# Usage\n",
    "\n",
    "Just import the `registers` package and use one of functions:\n",
    "* `read(file, **fmtparams)` - parses CSV `file`; `fmtparams` are passed to the csv `DictReader`"
   ]
  },
  {
   "cell_type": "code",
   "execution_count": 8,
   "metadata": {},
   "outputs": [],
   "source": [
    "import sys\n",
    "import csv\n",
    "from pprint import pp as pprint\n",
    "\n",
    "import registers"
   ]
  },
  {
   "cell_type": "markdown",
   "metadata": {},
   "source": [
    "## Exmple usage"
   ]
  },
  {
   "cell_type": "code",
   "execution_count": 21,
   "metadata": {},
   "outputs": [
    {
     "data": {
      "text/markdown": [
       "\n",
       "|Addr|Name|Type|Unit|Desc|Groups|\n",
       "|----|----|----|----|----|------|\n",
       "|1028|SysState|U16|<enum 'SysState'>|System state|{'status', 'main'}|\n",
       "|1048|Temperature_Env1|I16|degC|System temperature|{'main', 'status', 'temp'}|\n",
       "|1049|Temperature_Env2|I16|degC|System temperature 2|{'status', 'temp'}|\n",
       "|1029|Fault1|U16||Fault1|{'fault', 'status'}|\n",
       "|1030|Fault2|U16||Fault2|{'fault', 'status'}|\n",
       "|1031|Fault3|U16||Fault3|{'fault', 'status'}|\n",
       "|5248|EvLst_ID1|U16||EvLst_ID1|{'status', 'event'}|\n",
       "|5249|EvLst_YM1|U16||EvLst_YM1|{'status', 'event'}|\n",
       "|5250|EvLst_DH1|U16||EvLst_DH1|{'status', 'event'}|\n",
       "|5251|EvLst_MS1|U16||EvLst_MS1|{'status', 'event'}|\n",
       "|5252|EvLst_ID2|U16||EvLst_ID2|{'status', 'event'}|\n",
       "|5253|EvLst_YM2|U16||EvLst_YM2|{'status', 'event'}|\n",
       "|5254|EvLst_DH2|U16||EvLst_DH2|{'status', 'event'}|\n",
       "|5255|EvLst_MS2|U16||EvLst_MS2|{'status', 'event'}|\n",
       "|1156|Frequency_Grid|U16|Hz|Grid frequency|{'metrics', 'grid', 'main'}|\n",
       "|1157|ActivePower_Output_Total|I16|kW|ActivePower_Output_Total|{'power', 'metrics', 'grid', 'main'}|\n",
       "|1159|ApparentPower_Output_Total|I16|kW|ApparentPower_Output_Total|{'power', 'metrics', 'grid', 'apparent'}|\n",
       "|1160|ActivePower_PCC_Total|I16|kW|ActivePower_PCC_Total|{'power', 'metrics', 'pcc', 'main'}|\n",
       "|1162|ApparentPower_PCC_Total|I16|kW|ApparentPower_PCC_Total|{'power', 'metrics', 'pcc', 'apparent'}|\n",
       "|1284|ActivePower_Load_Total|I16|kW|ActivePower_Load_Total|{'power', 'metrics', 'load', 'main'}|\n",
       "|1286|ApparentPower_Load_Total|I16|kW|ApparentPower_Load_Total|{'power', 'metrics', 'load', 'apparent'}|\n",
       "|1165|Voltage_Phase_R|U16|V|Grid phase R voltage|{'line', 'metrics', 'voltage'}|\n",
       "|1166|Current_Output_R|U16|A|Current_Output_R|{'line', 'metrics', 'current'}|\n",
       "|1176|Voltage_Phase_S|U16|V|Grid phase S voltage|{'line', 'metrics', 'voltage'}|\n",
       "|1177|Current_Output_S|U16|A|Current_Output_S|{'line', 'metrics', 'current'}|\n",
       "|1187|Voltage_Phase_T|U16|V|Grid phase T voltage|{'line', 'metrics', 'voltage'}|\n",
       "|1188|Current_Output_T|U16|A|Current_Output_T|{'line', 'metrics', 'current'}|\n",
       "|1198|ActivePower_PV_Ext|U16|kW|ActivePower_PV_Ext|{'pv', 'metrics', 'power'}|\n",
       "|1199|ActivePower_Load_Sys|U16|kW|ActivePower_Load_Sys|{'power', 'metrics', 'sys', 'load'}|\n",
       "|1412|Voltage_PV1|U16|V|PV MPPT 1 voltage|{'pv', 'metrics', 'voltage'}|\n",
       "|1413|Current_PV1|U16|A|PV MPPT 1 current|{'pv', 'metrics', 'current'}|\n",
       "|1414|Power_PV1|U16|kW|PV MPPT 1 power|{'pv', 'metrics', 'main', 'power'}|\n",
       "|1415|Voltage_PV2|U16|V|PV MPPT 2 voltage|{'pv', 'metrics', 'voltage'}|\n",
       "|1416|Current_PV2|U16|A|PV MPPT 2 current|{'pv', 'metrics', 'current'}|\n",
       "|1417|Power_PV2|U16|kW|PV MPPT 2 power|{'pv', 'metrics', 'main', 'power'}|\n",
       "|1540|Voltage_Bat1|U16|V|Battery 1 voltage|{'metrics', 'bat', 'voltage'}|\n",
       "|1541|Current_Bat1|I16|A|Battery 1 current|{'current', 'metrics', 'bat'}|\n",
       "|1542|Power_Bat1|I16|kW|Battery 1 power|{'power', 'metrics', 'bat'}|\n",
       "|1546|ChargeCycle_Bat1|U16|cycle|Battery 1 cycles|{'metrics', 'cycle', 'bat'}|\n",
       "|1547|Voltage_Bat2|U16|V|Battery 2 voltage|{'metrics', 'bat', 'voltage'}|\n",
       "|1548|Current_Bat2|I16|A|Battery 2 current|{'current', 'metrics', 'bat'}|\n",
       "|1549|Power_Bat2|I16|kW|Battery 2 power|{'power', 'metrics', 'bat'}|\n",
       "|1553|ChargeCycle_Bat2|U16|cycle|Battery 2 cycles|{'metrics', 'cycle', 'bat'}|\n",
       "|1924|ArcStrength_Chn1|I16||ArcStrength_Chn1|{'metrics', 'arc'}|\n",
       "|1925|ArcStrength_Chn2|I16||ArcStrength_Chn2|{'metrics', 'arc'}|\n",
       "|8196|Country_Code|U16||Safety settings - Country code|{'info'}|\n",
       "|8199|Safety_Name|ASCII||Safety settings - name|{'info'}|\n",
       "|2112|VoltageConfig|BITMAP|<enum 'VoltageConfig'>|Used grid protection parameters|{'ovp', 'info'}|\n",
       "|2113|RatedVoltage|U16|V|RatedVoltage|{'info'}|\n",
       "|2114|FirstOvervoltageProtectionValue|U16|V|FirstOvervoltageProtectionValue|{'ovp', 'info'}|\n",
       "|2115|FirstOvervoltageProtectionTime|U16|10ms|FirstOvervoltageProtectionTime|{'ovp', 'info'}|\n",
       "|2116|SecondOvervoltageProtectionValue|U16|V|SecondOvervoltageProtectionValue|{'ovp', 'info'}|\n",
       "|2117|SecondOvervoltageProtectionTime|U16|10ms|SecondOvervoltageProtectionTime|{'ovp', 'info'}|\n",
       "|2118|ThirdOvervoltageProtectionValue|U16|V|ThirdOvervoltageProtectionValue|{'ovp', 'info'}|\n",
       "|2119|ThirdOvervoltageProtectionTime|U16|10ms|ThirdOvervoltageProtectionTime|{'ovp', 'info'}|\n",
       "|2120|FirstUnderVoltageProtectionValue|U16|V|FirstUnderVoltageProtectionValue|{'ovp', 'info'}|\n",
       "|2121|FirstUndervoltageProtectionTime|U16|10ms|FirstUndervoltageProtectionTime|{'ovp', 'info'}|\n",
       "|2122|SecondUnderVoltageProtectionValue|U16|V|SecondUnderVoltageProtectionValue|{'info', 'uvp'}|\n",
       "|2123|SecondUndervoltageProtectionTime|U16|10ms|SecondUndervoltageProtectionTime|{'info', 'uvp'}|\n",
       "|2124|ThirdUnderVoltageProtectionValue|U16|V|ThirdUnderVoltageProtectionValue|{'info', 'uvp'}|\n",
       "|2125|ThirdUndervoltageProtectionTime|U16|10ms|ThirdUndervoltageProtectionTime|{'info', 'uvp'}|\n",
       "|2126|10MinOvervoltageProtectionValue|U16|V|10MinOvervoltageProtectionValue|{'ovp', 'info'}|\n",
       "|2304|RemoteConfig|BITMAP|<enum 'RemoteConfig'>|RemoteConfig|{'info'}|\n",
       "|2305|ActiveOutputLimit|U16|%|ActiveOutputLimit|{'info'}|\n",
       "|2306|ActiveOutputDownSpeed|U16|%Pn/min|ActiveOutputDownSpeed|{'info'}|\n",
       "|2307|GridVoltageDropStart|U16|V|GridVoltageDropStart|{'info'}|\n",
       "|2308|GridVoltageDropStop|U16|V|GridVoltageDropStop|{'info'}|\n",
       "|2309|GridVoltageDropMinPower|I16|%|GridVoltageDropMinPower|{'info'}|\n",
       "|2310|OvervoltageDownSpeed|U16|%Pn/min|OvervoltageDownSpeed|{'info'}|\n",
       "|2322|RefluxPower|U16|%|RefluxPower|{'info'}|\n",
       "|2323|RefluxOVloadTime|U16|10ms|RefluxOVloadTime|{'info'}|\n",
       "|4131|AntiReflux_Control|U16|<enum 'AntiReflux_Control'>|AntiReflux_Control|{'status'}|\n",
       "|4132|AntiReflux_Power|U16|10W|AntiReflux_Power|{'status'}|\n",
       "|4152|UnbalancedSupport_Control|U16|<enum 'UnbalancedSupport_Control'>|UnbalancedSupport_Control|{'status'}|"
      ],
      "text/plain": [
       "<IPython.core.display.Markdown object>"
      ]
     },
     "metadata": {},
     "output_type": "display_data"
    }
   ],
   "source": [
    "from enum import Enum\n",
    "from IPython.display import display, Markdown\n",
    "\n",
    "with open('sofar.csv') as f:\n",
    "    regs = registers.read(f, delimiter=';')\n",
    "    md = \"\"\"\n",
    "|Addr|Name|Type|Unit|Desc|Groups|\n",
    "|----|----|----|----|----|------|\"\"\".splitlines()\n",
    "          \n",
    "    for r in regs:\n",
    "          md.append(f'|{r.address}|{r.name}|{r.type.name}|{r.unit.name if type(r.unit) is Enum else r.unit}|{r.description}|{r.groups}|')\n",
    "          \n",
    "    display(Markdown('\\n'.join(md)))"
   ]
  },
  {
   "cell_type": "markdown",
   "metadata": {},
   "source": [
    "## Units may be Enums and IntFlags"
   ]
  },
  {
   "cell_type": "code",
   "execution_count": 29,
   "metadata": {},
   "outputs": [
    {
     "data": {
      "text/markdown": [
       "* SysState: U16\n",
       "  * 0: Waiting\n",
       "  * 1: Checking\n",
       "  * 2: On-grid\n",
       "  * 3: Emergency Mode\n",
       "  * 4: Recoverable Fault\n",
       "  * 5: Permanent Fault\n",
       "  * 6: Upgarding\n",
       "  * 7: Self-charging\n",
       "* VoltageConfig: BITMAP\n",
       "  * 64: OVP - 10 min.\n",
       "  * 32: UVP 3\n",
       "  * 16: UVP 2\n",
       "  * 8: UVP 1\n",
       "  * 4: OVP 3\n",
       "  * 2: OVP 2\n",
       "  * 1: OVP 1\n",
       "* RemoteConfig: BITMAP\n",
       "  * 1: AC power derate - active\n",
       "  * 2: Remote on/off capability\n",
       "  * 4: AC power derate - high volt.\n",
       "  * 8: Batt. charging power derate - high volt.\n",
       "  * 16: Batt. charging power derate - low volt.\n",
       "  * 32: DRM0\n",
       "  * 64: DRM1-8\n",
       "  * 128: Reflux power overload\n",
       "* AntiReflux_Control: U16\n",
       "  * 0: disabled\n",
       "  * 1: enabled\n",
       "  * 2: enabled - avg. power mode\n",
       "* UnbalancedSupport_Control: U16\n",
       "  * 0: disabled\n",
       "  * 1: enabled"
      ],
      "text/plain": [
       "<IPython.core.display.Markdown object>"
      ]
     },
     "metadata": {},
     "output_type": "display_data"
    }
   ],
   "source": [
    "with open('sofar.csv') as f:\n",
    "    regs = registers.read(f, delimiter=';')\n",
    "    md = []\n",
    "    for r in regs:\n",
    "        if type(r.unit) is not str:\n",
    "            md.append(f'* {r.name}: {r.type.name}')\n",
    "            md += [f'  * {r.unit[n].value}: {n}' for n in r.unit.__members__]\n",
    "    display(Markdown('\\n'.join(md)))"
   ]
  }
 ],
 "metadata": {
  "kernelspec": {
   "display_name": "Python 3.9.13 ('iot_rs485')",
   "language": "python",
   "name": "python3"
  },
  "language_info": {
   "codemirror_mode": {
    "name": "ipython",
    "version": 3
   },
   "file_extension": ".py",
   "mimetype": "text/x-python",
   "name": "python",
   "nbconvert_exporter": "python",
   "pygments_lexer": "ipython3",
   "version": "3.9.15"
  },
  "orig_nbformat": 4,
  "vscode": {
   "interpreter": {
    "hash": "f6b45421d4c315f9dea71bf7e0eb0b3c4be1ed621d33587fd316d5b9d249b6c3"
   }
  }
 },
 "nbformat": 4,
 "nbformat_minor": 2
}
